{
 "cells": [
  {
   "cell_type": "code",
   "execution_count": 5,
   "metadata": {},
   "outputs": [
    {
     "name": "stdout",
     "output_type": "stream",
     "text": [
      "-27\n"
     ]
    }
   ],
   "source": [
    "import tensorflow as tf\n",
    "\n",
    "with tf.name_scope(\"MyOperationGroup\"):\n",
    "    with tf.name_scope(\"Scope_A\"):\n",
    "        a = tf.pow(2, 3, name=\"square_of_a\")\n",
    "\n",
    "    with tf.name_scope(\"Scope_B\"):\n",
    "        b = tf.pow(5, 3, name=\"square_of_b\")\n",
    "        \n",
    "    with tf.name_scope(\"Scope_C\"):\n",
    "        c= tf.multiply(5, 2, name=\"multiply_ab\")\n",
    "        d = tf.subtract(5, 2, name=\"a-b\")\n",
    "        e= tf.multiply(c, d)\n",
    "        f= tf.multiply(3, e)\n",
    "        g = tf.subtract(a, b)\n",
    "        h = tf.add(g, f, name=\"result\")\n",
    "\n",
    "with tf.Session() as sess:\n",
    "    writer = tf.summary.FileWriter(\"/tmp/tboard/output\", sess.graph)\n",
    "    print(sess.run(h))\n",
    "    writer.close()"
   ]
  },
  {
   "cell_type": "code",
   "execution_count": null,
   "metadata": {
    "collapsed": true
   },
   "outputs": [],
   "source": []
  }
 ],
 "metadata": {
  "kernelspec": {
   "display_name": "Python 3",
   "language": "python",
   "name": "python3"
  },
  "language_info": {
   "codemirror_mode": {
    "name": "ipython",
    "version": 3
   },
   "file_extension": ".py",
   "mimetype": "text/x-python",
   "name": "python",
   "nbconvert_exporter": "python",
   "pygments_lexer": "ipython3",
   "version": "3.6.1"
  }
 },
 "nbformat": 4,
 "nbformat_minor": 2
}
