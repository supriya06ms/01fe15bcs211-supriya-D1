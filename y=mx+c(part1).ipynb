{
 "cells": [
  {
   "cell_type": "code",
   "execution_count": null,
   "metadata": {
    "collapsed": true
   },
   "outputs": [],
   "source": []
  },
  {
   "cell_type": "code",
   "execution_count": 17,
   "metadata": {},
   "outputs": [
    {
     "name": "stdout",
     "output_type": "stream",
     "text": [
      "9.5\n",
      "3.5\n",
      "[-2.5 -1.5 -0.5  0.5  1.5  2.5]\n",
      "[ 6.25  2.25  0.25  0.25  2.25  6.25]\n",
      "17.5\n",
      "17.5\n",
      "1.0\n",
      "3.5\n",
      "6.0\n"
     ]
    }
   ],
   "source": [
    "import tensorflow as tf\n",
    "import numpy as np\n",
    "\n",
    "x = tf.constant([1.0, 2.0, 3.0, 4.0, 5.0, 6.0])   \n",
    "y= tf.constant([7.0, 8.0, 9.0, 10.0, 11.0, 12.0]) \n",
    "\n",
    "with tf.name_scope(\"MyOperationGroup\"):\n",
    "    with tf.name_scope(\"Scope_A\"):\n",
    "        #mean, var = tf.nn.moments(x, axes=[0], name=\"mean_variance_x\")\n",
    "        mean_x = tf.reduce_mean(x,  name=\"mean_x\")\n",
    "        mean_y = tf.reduce_mean(y,  name=\"mean_y\")\n",
    "        \n",
    "    with tf.name_scope(\"Scope_B\"):\n",
    "        s = tf.subtract(x, mean_x)\n",
    "        var_x = tf.square(s)\n",
    "        var = tf.reduce_sum(var_x)\n",
    "        \n",
    "    with tf.name_scope(\"Scope_C\"):\n",
    "        t = tf.subtract(y, mean_y)\n",
    "        a = tf.multiply(s, t)\n",
    "        cov = tf.reduce_sum(a)\n",
    "        \n",
    "    with tf.name_scope(\"Scope_D\"):\n",
    "        m= tf.divide(cov, var, name=\"slope_m\")\n",
    "        \n",
    "    with tf.name_scope(\"Scope_E\"):\n",
    "        d= tf.multiply(m, mean_x)\n",
    "        c=tf.subtract(mean_y, d, name=\"Constant_c\")\n",
    "      \n",
    "       \n",
    "       \n",
    "       \n",
    "    with tf.Session() as sess:\n",
    "        writer = tf.summary.FileWriter(\"/tmp/tboard/Assgn_output\", sess.graph)\n",
    "        print(sess.run(mean_y))\n",
    "        print(sess.run(mean_x))\n",
    "        print(sess.run(s))\n",
    "        print(sess.run(var_x))\n",
    "        print(sess.run(var))\n",
    "        print(sess.run(cov))\n",
    "        print(sess.run(m))\n",
    "        print(sess.run(d))\n",
    "        print(sess.run(c))\n",
    "        \n",
    "        writer.close()\n"
   ]
  },
  {
   "cell_type": "code",
   "execution_count": null,
   "metadata": {
    "collapsed": true
   },
   "outputs": [],
   "source": []
  }
 ],
 "metadata": {
  "kernelspec": {
   "display_name": "Python 3",
   "language": "python",
   "name": "python3"
  },
  "language_info": {
   "codemirror_mode": {
    "name": "ipython",
    "version": 3
   },
   "file_extension": ".py",
   "mimetype": "text/x-python",
   "name": "python",
   "nbconvert_exporter": "python",
   "pygments_lexer": "ipython3",
   "version": "3.6.1"
  }
 },
 "nbformat": 4,
 "nbformat_minor": 2
}
